{
 "cells": [
  {
   "cell_type": "code",
   "execution_count": 2,
   "id": "c7a9d278",
   "metadata": {},
   "outputs": [],
   "source": [
    "%load_ext sql"
   ]
  },
  {
   "cell_type": "code",
   "execution_count": 3,
   "id": "8defb3de",
   "metadata": {},
   "outputs": [
    {
     "data": {
      "text/plain": [
       "'Connected: @library.db'"
      ]
     },
     "execution_count": 3,
     "metadata": {},
     "output_type": "execute_result"
    }
   ],
   "source": [
    "%sql sqlite:///library.db"
   ]
  },
  {
   "cell_type": "code",
   "execution_count": 56,
   "id": "bb82bb42",
   "metadata": {},
   "outputs": [
    {
     "name": "stdout",
     "output_type": "stream",
     "text": [
      " * sqlite:///library.db\n",
      "Done.\n"
     ]
    },
    {
     "data": {
      "text/plain": [
       "[]"
      ]
     },
     "execution_count": 56,
     "metadata": {},
     "output_type": "execute_result"
    }
   ],
   "source": [
    "%%sql\n",
    "\n",
    "CREATE TABLE User (\n",
    "    UserID INTEGER PRIMARY KEY,\n",
    "    Username TEXT NOT NULL UNIQUE,\n",
    "    Email TEXT NOT NULL,\n",
    "    Password TEXT NOT NULL,\n",
    "    UserType TEXT NOT NULL\n",
    ");"
   ]
  },
  {
   "cell_type": "code",
   "execution_count": 17,
   "id": "c90a40cf",
   "metadata": {},
   "outputs": [
    {
     "name": "stdout",
     "output_type": "stream",
     "text": [
      " * sqlite:///library.db\n",
      "Done.\n"
     ]
    },
    {
     "data": {
      "text/plain": [
       "[]"
      ]
     },
     "execution_count": 17,
     "metadata": {},
     "output_type": "execute_result"
    }
   ],
   "source": [
    "%%sql\n",
    "CREATE TABLE Item (\n",
    "    ItemID INTEGER PRIMARY KEY,\n",
    "    ItemType TEXT NOT NULL,\n",
    "    Title TEXT NOT NULL,\n",
    "    Author TEXT,\n",
    "    Publisher TEXT,\n",
    "    Availability INTEGER NOT NULL DEFAULT 1\n",
    ");"
   ]
  },
  {
   "cell_type": "code",
   "execution_count": 19,
   "id": "c62605e5",
   "metadata": {},
   "outputs": [
    {
     "name": "stdout",
     "output_type": "stream",
     "text": [
      " * sqlite:///library.db\n",
      "Done.\n"
     ]
    },
    {
     "data": {
      "text/plain": [
       "[]"
      ]
     },
     "execution_count": 19,
     "metadata": {},
     "output_type": "execute_result"
    }
   ],
   "source": [
    "%%sql\n",
    "CREATE TABLE Borrowing (\n",
    "    BorrowingID INTEGER PRIMARY KEY,\n",
    "    UserID INTEGER,\n",
    "    ItemID INTEGER,\n",
    "    BorrowDate DATE NOT NULL,\n",
    "    DueDate DATE NOT NULL,\n",
    "    Returned INTEGER NOT NULL DEFAULT 0,\n",
    "    FOREIGN KEY (UserID) REFERENCES User(UserID),\n",
    "    FOREIGN KEY (ItemID) REFERENCES Item(ItemID),\n",
    "    UNIQUE (UserID, ItemID)\n",
    ");"
   ]
  },
  {
   "cell_type": "code",
   "execution_count": 20,
   "id": "d6e2d5ad",
   "metadata": {},
   "outputs": [
    {
     "name": "stdout",
     "output_type": "stream",
     "text": [
      " * sqlite:///library.db\n",
      "Done.\n"
     ]
    },
    {
     "data": {
      "text/plain": [
       "[]"
      ]
     },
     "execution_count": 20,
     "metadata": {},
     "output_type": "execute_result"
    }
   ],
   "source": [
    "%%sql\n",
    "CREATE TABLE Event (\n",
    "    EventID INTEGER PRIMARY KEY,\n",
    "    EventType TEXT NOT NULL,\n",
    "    Title TEXT NOT NULL,\n",
    "    Description TEXT,\n",
    "    Date DATE NOT NULL,\n",
    "    Location TEXT,\n",
    "    Audience TEXT\n",
    ");"
   ]
  },
  {
   "cell_type": "code",
   "execution_count": 21,
   "id": "86b4248c",
   "metadata": {},
   "outputs": [
    {
     "name": "stdout",
     "output_type": "stream",
     "text": [
      " * sqlite:///library.db\n",
      "Done.\n"
     ]
    },
    {
     "data": {
      "text/plain": [
       "[]"
      ]
     },
     "execution_count": 21,
     "metadata": {},
     "output_type": "execute_result"
    }
   ],
   "source": [
    "%%sql\n",
    "CREATE TABLE Attendee (\n",
    "    EventID INTEGER,\n",
    "    UserID INTEGER,\n",
    "    FOREIGN KEY (EventID) REFERENCES Event(EventID),\n",
    "    FOREIGN KEY (UserID) REFERENCES User(UserID),\n",
    "    PRIMARY KEY (EventID, UserID)\n",
    ");\n"
   ]
  },
  {
   "cell_type": "code",
   "execution_count": 34,
   "id": "638b4f28",
   "metadata": {},
   "outputs": [
    {
     "name": "stdout",
     "output_type": "stream",
     "text": [
      " * sqlite:///library.db\n",
      "Done.\n"
     ]
    },
    {
     "data": {
      "text/plain": [
       "[]"
      ]
     },
     "execution_count": 34,
     "metadata": {},
     "output_type": "execute_result"
    }
   ],
   "source": [
    "%%sql\n",
    "CREATE TABLE Personnel (\n",
    "    PersonnelID INTEGER PRIMARY KEY,\n",
    "    Name TEXT NOT NULL,\n",
    "    Position TEXT NOT NULL\n",
    ");\n"
   ]
  },
  {
   "cell_type": "code",
   "execution_count": 23,
   "id": "863170ac",
   "metadata": {},
   "outputs": [
    {
     "name": "stdout",
     "output_type": "stream",
     "text": [
      " * sqlite:///library.db\n",
      "Done.\n"
     ]
    },
    {
     "data": {
      "text/plain": [
       "[]"
      ]
     },
     "execution_count": 23,
     "metadata": {},
     "output_type": "execute_result"
    }
   ],
   "source": [
    "%%sql\n",
    "CREATE TABLE Donation (\n",
    "    DonationID INTEGER PRIMARY KEY,\n",
    "    UserID INTEGER,\n",
    "    ItemID INTEGER,\n",
    "    DonationDate DATE NOT NULL,\n",
    "    FOREIGN KEY (UserID) REFERENCES User(UserID),\n",
    "    FOREIGN KEY (ItemID) REFERENCES Item(ItemID)\n",
    ");\n"
   ]
  },
  {
   "cell_type": "markdown",
   "id": "ce57edd2",
   "metadata": {},
   "source": [
    "User(UserID, Username, Email, Password, UserType)\n",
    "Item(ItemID, ItemType, Title, Author, Publisher, Availability)\n",
    "Borrowing(BorrowingID, UserID FK, ItemID FK, BorrowDate, DueDate, Returned)\n",
    "Event(EventID, EventType, Title, Description, Date, Location, Audience)\n",
    "Attendee(EventID FK, UserID FK)\n",
    "Personnel(PersonnelID, Name, Position)\n",
    "Donation(DonationID, UserID FK, ItemID FK, DonationDate)"
   ]
  },
  {
   "cell_type": "markdown",
   "id": "dd6fc33d",
   "metadata": {},
   "source": [
    "- Find an item in the library\n",
    "- Borrow an item from the library\n",
    "- Return a borrowed item\n",
    "- Donate an item to the library\n",
    "- Find an event in the library\n",
    "- Register for an event in the library\n",
    "- Volunteer for the library\n",
    "- Ask for help from a librarian"
   ]
  },
  {
   "cell_type": "markdown",
   "id": "4d3d3826",
   "metadata": {},
   "source": [
    "- Library has print books, online books, magazines, scientific journals, CDs, records, etc.\n",
    "\n",
    "- People can borrow the items from library and return by the due date.\n",
    "\n",
    "- People may be subject to fines if they do not return items by the due date.\n",
    "\n",
    "- Library also holds book clubs, book related events, art shows, film screenings, etc.\n",
    "\n",
    "- Library events are recommended for specific audiences.\n",
    "\n",
    "- Library events are held on library social rooms.\n",
    "\n",
    "- People can attend library events for free.\n",
    "\n",
    "- Library also has personnel and record keeping for personnel.\n",
    "\n",
    "- Library also keeps records of items (books, etc.) that might be added to library in the future."
   ]
  },
  {
   "cell_type": "code",
   "execution_count": 57,
   "id": "48d938c2",
   "metadata": {},
   "outputs": [
    {
     "name": "stdout",
     "output_type": "stream",
     "text": [
      " * sqlite:///library.db\n",
      "10 rows affected.\n"
     ]
    },
    {
     "data": {
      "text/plain": [
       "[]"
      ]
     },
     "execution_count": 57,
     "metadata": {},
     "output_type": "execute_result"
    }
   ],
   "source": [
    "%%sql\n",
    "INSERT INTO User (Username, Email, Password, UserType) VALUES\n",
    "('JohnDoe', 'john.doe@example.com', 'password123', 'member'),\n",
    "('JaneSmith', 'jane.smith@example.com', 'pass456', 'member'),\n",
    "('Admin1', 'admin1@example.com', 'adminpass', 'librarian'),\n",
    "('VolunteerA', 'volunteerA@example.com', 'volunteerpass', 'volunteer'),\n",
    "('User5', 'user5@example.com', 'userpass5', 'member'),\n",
    "('User6', 'user6@example.com', 'userpass6', 'member'),\n",
    "('Librarian2', 'librarian2@example.com', 'libpass2', 'librarian'),\n",
    "('VolunteerB', 'volunteerB@example.com', 'volunteerpass', 'volunteer'),\n",
    "('User9', 'user9@example.com', 'userpass9', 'member'),\n",
    "('User10', 'user10@example.com', 'userpass10', 'member');\n"
   ]
  },
  {
   "cell_type": "code",
   "execution_count": 27,
   "id": "6f5afb4a",
   "metadata": {},
   "outputs": [
    {
     "name": "stdout",
     "output_type": "stream",
     "text": [
      " * sqlite:///library.db\n",
      "10 rows affected.\n"
     ]
    },
    {
     "data": {
      "text/plain": [
       "[]"
      ]
     },
     "execution_count": 27,
     "metadata": {},
     "output_type": "execute_result"
    }
   ],
   "source": [
    "%%sql\n",
    "INSERT INTO Item (ItemType, Title, Author, Publisher, Availability) VALUES\n",
    "('Print Book', 'The Great Gatsby', 'F. Scott Fitzgerald', 'Scribner', 1),\n",
    "('Online Book', 'To Kill a Mockingbird', 'Harper Lee', 'Harper Perennial Modern Classics', 1),\n",
    "('Magazine', 'National Geographic', NULL, 'National Geographic Society', 1),\n",
    "('CD', 'Abbey Road', 'The Beatles', 'Apple Records', 1),\n",
    "('Record', 'Thriller', 'Michael Jackson', 'Epic Records', 1),\n",
    "('Print Book', '1984', 'George Orwell', 'Secker & Warburg', 1),\n",
    "('Online Book', 'The Lord of the Rings', 'J.R.R. Tolkien', 'Allen & Unwin', 1),\n",
    "('CD', 'Dark Side of the Moon', 'Pink Floyd', 'Harvest', 1),\n",
    "('Print Book', 'Pride and Prejudice', 'Jane Austen', 'T. Egerton, Whitehall', 1),\n",
    "('Record', 'Back in Black', 'AC/DC', 'Atlantic', 1);\n"
   ]
  },
  {
   "cell_type": "code",
   "execution_count": 28,
   "id": "a7eaefd1",
   "metadata": {},
   "outputs": [
    {
     "name": "stdout",
     "output_type": "stream",
     "text": [
      " * sqlite:///library.db\n",
      "10 rows affected.\n"
     ]
    },
    {
     "data": {
      "text/plain": [
       "[]"
      ]
     },
     "execution_count": 28,
     "metadata": {},
     "output_type": "execute_result"
    }
   ],
   "source": [
    "%%sql\n",
    "INSERT INTO Borrowing (UserID, ItemID, BorrowDate, DueDate, Returned) VALUES\n",
    "(1, 1, '2023-07-01', '2023-07-15', 0),\n",
    "(2, 3, '2023-07-02', '2023-07-16', 0),\n",
    "(4, 2, '2023-07-03', '2023-07-17', 0),\n",
    "(7, 4, '2023-07-04', '2023-07-18', 0),\n",
    "(8, 5, '2023-07-05', '2023-07-19', 0),\n",
    "(3, 7, '2023-07-06', '2023-07-20', 0),\n",
    "(5, 6, '2023-07-07', '2023-07-21', 0),\n",
    "(6, 9, '2023-07-08', '2023-07-22', 0),\n",
    "(9, 8, '2023-07-09', '2023-07-23', 0),\n",
    "(10, 10, '2023-07-10', '2023-07-24', 0);\n"
   ]
  },
  {
   "cell_type": "code",
   "execution_count": 29,
   "id": "2c0a72e9",
   "metadata": {},
   "outputs": [
    {
     "name": "stdout",
     "output_type": "stream",
     "text": [
      " * sqlite:///library.db\n",
      "10 rows affected.\n"
     ]
    },
    {
     "data": {
      "text/plain": [
       "[]"
      ]
     },
     "execution_count": 29,
     "metadata": {},
     "output_type": "execute_result"
    }
   ],
   "source": [
    "%%sql\n",
    "INSERT INTO Event (EventType, Title, Description, Date, Location, Audience) VALUES\n",
    "('Book Club', 'Summer Reading Club', 'Join us for a summer of reading!', '2023-07-12', 'Library Room A', 'All ages'),\n",
    "('Art Show', 'Local Artists Showcase', 'Discover local talent in this art exhibition.', '2023-07-15', 'Art Gallery', 'Public'),\n",
    "('Film Screening', 'Movie Night: Inception', 'Watch the mind-bending thriller Inception.', '2023-07-20', 'Theater Room', 'Teens and adults'),\n",
    "('Book Club', 'Classic Literature Discussion', 'Discuss the timeless works of classic literature.', '2023-07-25', 'Library Room B', 'Adults'),\n",
    "('Film Screening', 'Family Movie Matinee', 'Enjoy a family-friendly movie together.', '2023-07-28', 'Theater Room', 'Families'),\n",
    "('Art Show', 'Nature in Art', 'Explore the beauty of nature through art.', '2023-08-02', 'Art Gallery', 'All ages'),\n",
    "('Book Club', 'Mystery Book Discussion', 'Unravel the mysteries of thrilling novels.', '2023-08-05', 'Library Room A', 'Teens and adults'),\n",
    "('Film Screening', 'Classic Movie Marathon', 'A marathon of timeless classic films.', '2023-08-10', 'Theater Room', 'Public'),\n",
    "('Book Club', 'Sci-Fi & Fantasy Book Talk', 'Dive into the world of science fiction and fantasy literature.', '2023-08-15', 'Library Room B', 'Adults'),\n",
    "('Art Show', 'Abstract Art Exhibition', 'Experience the world of abstract art.', '2023-08-20', 'Art Gallery', 'Public');\n"
   ]
  },
  {
   "cell_type": "code",
   "execution_count": 30,
   "id": "c5841b60",
   "metadata": {},
   "outputs": [
    {
     "name": "stdout",
     "output_type": "stream",
     "text": [
      " * sqlite:///library.db\n",
      "10 rows affected.\n"
     ]
    },
    {
     "data": {
      "text/plain": [
       "[]"
      ]
     },
     "execution_count": 30,
     "metadata": {},
     "output_type": "execute_result"
    }
   ],
   "source": [
    "%%sql\n",
    "INSERT INTO Attendee (EventID, UserID) VALUES\n",
    "(1, 1),\n",
    "(1, 2),\n",
    "(2, 3),\n",
    "(3, 4),\n",
    "(3, 5),\n",
    "(4, 6),\n",
    "(5, 7),\n",
    "(5, 8),\n",
    "(6, 9),\n",
    "(7, 10);\n"
   ]
  },
  {
   "cell_type": "code",
   "execution_count": 35,
   "id": "1f16ffc4",
   "metadata": {},
   "outputs": [
    {
     "name": "stdout",
     "output_type": "stream",
     "text": [
      " * sqlite:///library.db\n",
      "10 rows affected.\n"
     ]
    },
    {
     "data": {
      "text/plain": [
       "[]"
      ]
     },
     "execution_count": 35,
     "metadata": {},
     "output_type": "execute_result"
    }
   ],
   "source": [
    "%%sql\n",
    "INSERT INTO Personnel (PersonnelID, Name, Position) VALUES\n",
    "(1, 'Alice', 'Librarian'),\n",
    "(2, 'Bob', 'Librarian'),\n",
    "(3, 'Carol', 'Volunteer'),\n",
    "(4, 'David', 'Volunteer'),\n",
    "(5, 'Eve', 'Librarian'),\n",
    "(6, 'Frank', 'Volunteer'),\n",
    "(7, 'Grace', 'Librarian'),\n",
    "(8, 'Henry', 'Librarian'),\n",
    "(9, 'Isabel', 'Volunteer'),\n",
    "(10, 'John', 'Volunteer');\n"
   ]
  },
  {
   "cell_type": "code",
   "execution_count": 37,
   "id": "e74843a7",
   "metadata": {},
   "outputs": [
    {
     "name": "stdout",
     "output_type": "stream",
     "text": [
      " * sqlite:///library.db\n",
      "10 rows affected.\n"
     ]
    },
    {
     "data": {
      "text/plain": [
       "[]"
      ]
     },
     "execution_count": 37,
     "metadata": {},
     "output_type": "execute_result"
    }
   ],
   "source": [
    "%%sql\n",
    "INSERT INTO Donation (UserID, ItemID, DonationDate) VALUES\n",
    "(1, 6, '2023-07-11'),\n",
    "(2, 5, '2023-07-12'),\n",
    "(3, 2, '2023-07-14'),\n",
    "(4, 1, '2023-07-15'),\n",
    "(5, 7, '2023-07-18'),\n",
    "(6, 3, '2023-07-19'),\n",
    "(7, 8, '2023-07-21'),\n",
    "(8, 9, '2023-07-22'),\n",
    "(9, 10, '2023-07-25'),\n",
    "(10, 4, '2023-07-29');\n",
    "\n"
   ]
  },
  {
   "cell_type": "code",
   "execution_count": 53,
   "id": "ca12aae6",
   "metadata": {},
   "outputs": [
    {
     "name": "stdout",
     "output_type": "stream",
     "text": [
      " * sqlite:///library.db\n",
      "Done.\n"
     ]
    },
    {
     "data": {
      "text/plain": [
       "[]"
      ]
     },
     "execution_count": 53,
     "metadata": {},
     "output_type": "execute_result"
    }
   ],
   "source": [
    "%%sql\n",
    "CREATE TRIGGER update_item_attribute\n",
    "AFTER INSERT ON Borrowing\n",
    "FOR EACH ROW\n",
    "BEGIN\n",
    "    UPDATE Item\n",
    "    SET Availability = 0\n",
    "    WHERE ItemID = NEW.ItemID;\n",
    "END;\n",
    "\n",
    "\n",
    "\n"
   ]
  },
  {
   "cell_type": "code",
   "execution_count": 7,
   "id": "d9f44bcf",
   "metadata": {},
   "outputs": [
    {
     "name": "stdout",
     "output_type": "stream",
     "text": [
      " * sqlite:///library.db\n",
      "Done.\n"
     ]
    },
    {
     "data": {
      "text/plain": [
       "[]"
      ]
     },
     "execution_count": 7,
     "metadata": {},
     "output_type": "execute_result"
    }
   ],
   "source": [
    "%%sql\n",
    "\n",
    "CREATE TRIGGER update_item_after_delete\n",
    "AFTER DELETE ON Borrowing\n",
    "FOR EACH ROW\n",
    "BEGIN\n",
    "    UPDATE Item\n",
    "    SET Availability = 1\n",
    "    WHERE ItemID = OLD.ItemID;\n",
    "END;"
   ]
  },
  {
   "cell_type": "code",
   "execution_count": 13,
   "id": "3248b47e",
   "metadata": {},
   "outputs": [
    {
     "name": "stdout",
     "output_type": "stream",
     "text": [
      " * sqlite:///library.db\n",
      "Done.\n"
     ]
    },
    {
     "data": {
      "text/html": [
       "<table>\n",
       "    <thead>\n",
       "        <tr>\n",
       "            <th>DonationID</th>\n",
       "            <th>UserID</th>\n",
       "            <th>ItemID</th>\n",
       "            <th>DonationDate</th>\n",
       "        </tr>\n",
       "    </thead>\n",
       "    <tbody>\n",
       "        <tr>\n",
       "            <td>1</td>\n",
       "            <td>1</td>\n",
       "            <td>6</td>\n",
       "            <td>2023-07-11</td>\n",
       "        </tr>\n",
       "        <tr>\n",
       "            <td>2</td>\n",
       "            <td>2</td>\n",
       "            <td>5</td>\n",
       "            <td>2023-07-12</td>\n",
       "        </tr>\n",
       "        <tr>\n",
       "            <td>3</td>\n",
       "            <td>3</td>\n",
       "            <td>2</td>\n",
       "            <td>2023-07-14</td>\n",
       "        </tr>\n",
       "        <tr>\n",
       "            <td>4</td>\n",
       "            <td>4</td>\n",
       "            <td>1</td>\n",
       "            <td>2023-07-15</td>\n",
       "        </tr>\n",
       "        <tr>\n",
       "            <td>5</td>\n",
       "            <td>5</td>\n",
       "            <td>7</td>\n",
       "            <td>2023-07-18</td>\n",
       "        </tr>\n",
       "        <tr>\n",
       "            <td>6</td>\n",
       "            <td>6</td>\n",
       "            <td>3</td>\n",
       "            <td>2023-07-19</td>\n",
       "        </tr>\n",
       "        <tr>\n",
       "            <td>7</td>\n",
       "            <td>7</td>\n",
       "            <td>8</td>\n",
       "            <td>2023-07-21</td>\n",
       "        </tr>\n",
       "        <tr>\n",
       "            <td>8</td>\n",
       "            <td>8</td>\n",
       "            <td>9</td>\n",
       "            <td>2023-07-22</td>\n",
       "        </tr>\n",
       "        <tr>\n",
       "            <td>9</td>\n",
       "            <td>9</td>\n",
       "            <td>10</td>\n",
       "            <td>2023-07-25</td>\n",
       "        </tr>\n",
       "        <tr>\n",
       "            <td>10</td>\n",
       "            <td>10</td>\n",
       "            <td>4</td>\n",
       "            <td>2023-07-29</td>\n",
       "        </tr>\n",
       "    </tbody>\n",
       "</table>"
      ],
      "text/plain": [
       "[(1, 1, 6, '2023-07-11'),\n",
       " (2, 2, 5, '2023-07-12'),\n",
       " (3, 3, 2, '2023-07-14'),\n",
       " (4, 4, 1, '2023-07-15'),\n",
       " (5, 5, 7, '2023-07-18'),\n",
       " (6, 6, 3, '2023-07-19'),\n",
       " (7, 7, 8, '2023-07-21'),\n",
       " (8, 8, 9, '2023-07-22'),\n",
       " (9, 9, 10, '2023-07-25'),\n",
       " (10, 10, 4, '2023-07-29')]"
      ]
     },
     "execution_count": 13,
     "metadata": {},
     "output_type": "execute_result"
    }
   ],
   "source": [
    "%%sql\n",
    "/*\n",
    "Find an item in the library\n",
    "Borrow an item from the library\n",
    "Return a borrowed item\n",
    "Donate an item to the library\n",
    "Find an event in the library\n",
    "Register for an event in the library\n",
    "Volunteer for the library\n",
    "Ask for help from a librarian\n",
    "\n",
    "User(UserID, Username, Email, Password, UserType)\n",
    "Item(ItemID, ItemType, Title, Author, Publisher, Availability)\n",
    "Borrowing(BorrowingID, UserID FK, ItemID FK, BorrowDate, DueDate, Returned)\n",
    "Event(EventID, EventType, Title, Description, Date, Location, Audience)\n",
    "Attendee(EventID FK, UserID FK)\n",
    "Personnel(PersonnelID, Name, Position)\n",
    "Donation(DonationID, UserID FK, ItemID FK, DonationDate)\n",
    "*/\n",
    "SELECT * FROM Donation;\n"
   ]
  },
  {
   "cell_type": "code",
   "execution_count": null,
   "id": "98e96d9a",
   "metadata": {},
   "outputs": [],
   "source": []
  },
  {
   "cell_type": "markdown",
   "id": "d9ac1140",
   "metadata": {},
   "source": [
    "Library(printBooks, onlineBooks, magazines, scientificJournals, cd, record)"
   ]
  }
 ],
 "metadata": {
  "kernelspec": {
   "display_name": "Python 3 (ipykernel)",
   "language": "python",
   "name": "python3"
  },
  "language_info": {
   "codemirror_mode": {
    "name": "ipython",
    "version": 3
   },
   "file_extension": ".py",
   "mimetype": "text/x-python",
   "name": "python",
   "nbconvert_exporter": "python",
   "pygments_lexer": "ipython3",
   "version": "3.10.9"
  }
 },
 "nbformat": 4,
 "nbformat_minor": 5
}
